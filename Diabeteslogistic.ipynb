{
 "cells": [
  {
   "cell_type": "code",
   "execution_count": 54,
   "id": "9a7d38e0-a23d-4fdc-ad06-cdafe82ed168",
   "metadata": {},
   "outputs": [],
   "source": [
    "# --- Import Libraries ---\n",
    "import pandas as pd\n",
    "import numpy as np\n",
    "import matplotlib.pyplot as plt\n",
    "import seaborn as sns\n",
    "import statsmodels.formula.api as smf\n",
    "from statsmodels.stats.outliers_influence import variance_inflation_factor\n",
    "import statsmodels.api as sm\n",
    "\n",
    "# --- Load Data ---\n",
    "patients = pd.read_csv('patients.csv')\n",
    "conditions = pd.read_csv('conditions.csv')\n",
    "observations = pd.read_csv('observations.csv')"
   ]
  },
  {
   "cell_type": "code",
   "execution_count": 55,
   "id": "f19dc3ab-441c-416e-b44f-9e33ef0c633b",
   "metadata": {},
   "outputs": [
    {
     "name": "stdout",
     "output_type": "stream",
     "text": [
      "Total patients: 1163\n"
     ]
    }
   ],
   "source": [
    "print(f\"Total patients: {len(patients)}\")"
   ]
  },
  {
   "cell_type": "code",
   "execution_count": 56,
   "id": "26d5d5a0-c38b-4d32-bac8-c32d1a297e83",
   "metadata": {},
   "outputs": [],
   "source": [
    "# --- Compute AGE ---\n",
    "patients['BIRTHDATE'] = pd.to_datetime(patients['BIRTHDATE'])\n",
    "patients = patients[patients['DEATHDATE'].isna()].reset_index(drop=True)\n",
    "reference_date = pd.to_datetime(\"2025-01-01\")\n",
    "patients['AGE'] = (reference_date - patients['BIRTHDATE']).dt.days // 365\n"
   ]
  },
  {
   "cell_type": "code",
   "execution_count": 57,
   "id": "fc3dba94-e05d-4e0c-bce8-c59f12fb4ba1",
   "metadata": {},
   "outputs": [],
   "source": [
    "# --- Diabetes/Prediabetes Outcome ---\n",
    "diabetes_codes = [\"44054006\", \"15777000\"]\n",
    "diabetes_patients = conditions[conditions['CODE'].astype(str).str.strip().isin(diabetes_codes)]['PATIENT'].unique()\n",
    "patients['diabetes_outcome'] = patients['Id'].isin(diabetes_patients).astype(int)"
   ]
  },
  {
   "cell_type": "code",
   "execution_count": 58,
   "id": "4a94d696-968b-4578-9bba-33928f7a1e78",
   "metadata": {},
   "outputs": [],
   "source": [
    "# --- Hypertension Indicator ---\n",
    "hypertension_patients = conditions[conditions['CODE'].astype(str).str.strip() == \"59621000\"]['PATIENT'].unique()\n",
    "patients['hypertension'] = patients['Id'].isin(hypertension_patients).astype(int)"
   ]
  },
  {
   "cell_type": "code",
   "execution_count": 59,
   "id": "cc9eaf45-876c-4ad8-ac32-6865b70dfbbb",
   "metadata": {},
   "outputs": [],
   "source": [
    "# --- BMI Extraction (LOINC 39156-5) ---\n",
    "bmi_obs = observations[observations['CODE'] == '39156-5'].sort_values(by=['PATIENT','DATE'], ascending=[True, False])\n",
    "bmi_latest = bmi_obs.groupby('PATIENT').first().reset_index()[['PATIENT','VALUE']]\n",
    "bmi_latest.rename(columns={'VALUE':'BMI'}, inplace=True)"
   ]
  },
  {
   "cell_type": "code",
   "execution_count": 60,
   "id": "d6dfdb1a-fead-460c-ba7d-6b8be6890b59",
   "metadata": {},
   "outputs": [
    {
     "name": "stderr",
     "output_type": "stream",
     "text": [
      "/var/folders/hc/0c4gjvbj0939ylqy16hjn8dw0000gn/T/ipykernel_37085/3704554811.py:4: FutureWarning: A value is trying to be set on a copy of a DataFrame or Series through chained assignment using an inplace method.\n",
      "The behavior will change in pandas 3.0. This inplace method will never work because the intermediate object on which we are setting values always behaves as a copy.\n",
      "\n",
      "For example, when doing 'df[col].method(value, inplace=True)', try using 'df.method({col: value}, inplace=True)' or df[col] = df[col].method(value) instead, to perform the operation inplace on the original object.\n",
      "\n",
      "\n",
      "  patients['BMI'].fillna(patients['BMI'].mean(), inplace=True)\n"
     ]
    }
   ],
   "source": [
    "# --- Merge BMI and keep all patients ---\n",
    "patients = patients.merge(bmi_latest, left_on='Id', right_on='PATIENT', how='left').drop(columns=['PATIENT'])\n",
    "patients['BMI'] = pd.to_numeric(patients['BMI'], errors='coerce')\n",
    "patients['BMI'].fillna(patients['BMI'].mean(), inplace=True)"
   ]
  },
  {
   "cell_type": "code",
   "execution_count": 61,
   "id": "fc25a335-84bb-46c5-bdff-6911b681eb28",
   "metadata": {},
   "outputs": [
    {
     "name": "stdout",
     "output_type": "stream",
     "text": [
      "                           Logit Regression Results                           \n",
      "==============================================================================\n",
      "Dep. Variable:       diabetes_outcome   No. Observations:                 1000\n",
      "Model:                          Logit   Df Residuals:                      995\n",
      "Method:                           MLE   Df Model:                            4\n",
      "Date:                Thu, 31 Jul 2025   Pseudo R-squ.:                  0.2387\n",
      "Time:                        00:38:58   Log-Likelihood:                -459.75\n",
      "converged:                       True   LL-Null:                       -603.93\n",
      "Covariance Type:            nonrobust   LLR p-value:                 3.498e-61\n",
      "==================================================================================\n",
      "                     coef    std err          z      P>|z|      [0.025      0.975]\n",
      "----------------------------------------------------------------------------------\n",
      "Intercept         -6.0003      0.731     -8.203      0.000      -7.434      -4.567\n",
      "C(GENDER)[T.M]     0.2541      0.163      1.556      0.120      -0.066       0.574\n",
      "AGE                0.0515      0.005     11.441      0.000       0.043       0.060\n",
      "BMI                0.0917      0.026      3.483      0.000       0.040       0.143\n",
      "hypertension       0.0308      0.177      0.174      0.862      -0.316       0.378\n",
      "==================================================================================\n"
     ]
    }
   ],
   "source": [
    "# --- Logistic Regression ---\n",
    "patients['GENDER'] = patients['GENDER'].fillna('Unknown')\n",
    "logit_model = smf.logit('diabetes_outcome ~ AGE + BMI + hypertension + C(GENDER)', data=patients).fit(disp=0)\n",
    "print(logit_model.summary())"
   ]
  },
  {
   "cell_type": "code",
   "execution_count": 62,
   "id": "45f1fcdc-9ac7-473b-956a-a44d4a9ac2d6",
   "metadata": {},
   "outputs": [
    {
     "name": "stdout",
     "output_type": "stream",
     "text": [
      "\n",
      "Odds Ratios and 95% CI:\n",
      "Intercept: OR = 0.00, 95% CI = [0.00, 0.01], p = 0.000\n",
      "C(GENDER)[T.M]: OR = 1.29, 95% CI = [0.94, 1.78], p = 0.120\n",
      "AGE: OR = 1.05, 95% CI = [1.04, 1.06], p = 0.000\n",
      "BMI: OR = 1.10, 95% CI = [1.04, 1.15], p = 0.000\n",
      "hypertension: OR = 1.03, 95% CI = [0.73, 1.46], p = 0.862\n"
     ]
    }
   ],
   "source": [
    "# --- Odds Ratios and 95% CI ---\n",
    "params = logit_model.params\n",
    "conf = logit_model.conf_int()\n",
    "odds_ratios = np.exp(params)\n",
    "conf_lower = np.exp(conf[0])\n",
    "conf_upper = np.exp(conf[1])\n",
    "print(\"\\nOdds Ratios and 95% CI:\")\n",
    "for var in odds_ratios.index:\n",
    "    print(f\"{var}: OR = {odds_ratios[var]:.2f}, 95% CI = [{conf_lower[var]:.2f}, {conf_upper[var]:.2f}], p = {logit_model.pvalues[var]:.3f}\")"
   ]
  },
  {
   "cell_type": "code",
   "execution_count": 63,
   "id": "b3ac08e7-3605-480a-bbf7-87962d4831ea",
   "metadata": {},
   "outputs": [
    {
     "name": "stdout",
     "output_type": "stream",
     "text": [
      "\n",
      "Total patients: 1000\n",
      "Patients with diabetes/prediabetes: 292\n",
      "Patients with hypertension: 252\n"
     ]
    }
   ],
   "source": [
    "# --- Summary Counts ---\n",
    "print(f\"\\nTotal patients: {len(patients)}\")\n",
    "print(f\"Patients with diabetes/prediabetes: {patients['diabetes_outcome'].sum()}\")\n",
    "print(f\"Patients with hypertension: {patients['hypertension'].sum()}\")"
   ]
  },
  {
   "cell_type": "code",
   "execution_count": null,
   "id": "c917e03c-8918-49fa-aeeb-e976852422a3",
   "metadata": {},
   "outputs": [],
   "source": []
  },
  {
   "cell_type": "code",
   "execution_count": 64,
   "id": "bcf5f6af-0acc-4139-a94d-a44950be5dc3",
   "metadata": {},
   "outputs": [
    {
     "data": {
      "image/png": "[encoded data removed]",
      "text/plain": [
       "<Figure size 600x400 with 1 Axes>"
      ]
     },
     "metadata": {},
     "output_type": "display_data"
    }
   ],
   "source": [
    "# --- Histogram of Residuals ---\n",
    "plt.figure(figsize=(6,4))\n",
    "sns.histplot(residuals, bins=30, kde=True)\n",
    "plt.title('Histogram of Residuals')\n",
    "plt.xlabel('Residual')\n",
    "plt.ylabel('Frequency')\n",
    "plt.show()"
   ]
  },
  {
   "cell_type": "code",
   "execution_count": 65,
   "id": "4c2027b1-69f2-4a4a-adfe-e1bfcafcb2ca",
   "metadata": {},
   "outputs": [
    {
     "name": "stdout",
     "output_type": "stream",
     "text": [
      "\n",
      "Variance Inflation Factors:\n",
      "       Variable        VIF\n",
      "0         const  34.059878\n",
      "1           AGE   1.541564\n",
      "2           BMI   1.549632\n",
      "3  hypertension   1.070088\n"
     ]
    }
   ],
   "source": [
    "# --- VIF Check ---\n",
    "X = patients[['AGE','BMI','hypertension']].copy()\n",
    "X = sm.add_constant(X)\n",
    "vif_df = pd.DataFrame()\n",
    "vif_df['Variable'] = X.columns\n",
    "vif_df['VIF'] = [variance_inflation_factor(X.values, i) for i in range(X.shape[1])]\n",
    "print(\"\\nVariance Inflation Factors:\")\n",
    "print(vif_df)"
   ]
  },
  {
   "cell_type": "markdown",
   "id": "f58201b2-af59-46b8-a179-5b8ba6598646",
   "metadata": {},
   "source": [
    "Interpretation of Logistic Regression Results\n",
    "This table summarizes the results of a logistic regression predicting the probability of diabetes or prediabetes outcome using age, BMI, gender, and hypertension status.\n",
    "\n",
    "Key Points\n",
    "Pseudo R-squared = 0.239:\n",
    "The model explains about 23.9% of the variance in diabetes outcome, which is relatively strong for healthcare prediction models using limited demographic and clinical features.\n",
    "\n",
    "AGE (coef = 0.0515, p < 0.001):\n",
    "\n",
    "For each additional year of age, the log odds of having diabetes increase by 0.0515.\n",
    "\n",
    "In odds ratio terms: exp(0.0515) ≈ 1.053.\n",
    "\n",
    "This means each additional year of age increases the odds of having diabetes by about 5.3%, holding other variables constant.\n",
    "\n",
    "This effect is statistically significant (p < 0.001).\n",
    "\n",
    "BMI (coef = 0.0917, p < 0.001):\n",
    "\n",
    "For each one-unit increase in BMI, the log odds of having diabetes increase by 0.0917.\n",
    "\n",
    "In odds ratio terms: exp(0.0917) ≈ 1.096.\n",
    "\n",
    "This means each unit increase in BMI increases the odds of having diabetes by about 9.6%, holding other variables constant.\n",
    "\n",
    "This effect is statistically significant (p < 0.001).\n",
    "\n",
    "Hypertension (coef = 0.0308, p = 0.862):\n",
    "\n",
    "Having hypertension is associated with only a 3.1% increase in the odds of diabetes (exp(0.0308) ≈ 1.031).\n",
    "\n",
    "This effect is not statistically significant (p > 0.05).\n",
    "\n",
    "Gender (Male vs. Female) (coef = 0.2541, p = 0.120):\n",
    "\n",
    "Being male is associated with a 28.9% increase in the odds of diabetes compared to females (exp(0.2541) ≈ 1.289).\n",
    "\n",
    "However, this effect is not statistically significant (p > 0.05).\n",
    "\n",
    "Additional Notes\n",
    "Intercept (-6.0003): Represents the baseline log odds of diabetes when all predictors are at zero (not directly meaningful in practice).\n",
    "\n",
    "Model Fit:\n",
    "\n",
    "Pseudo R-squared (0.239) indicates a relatively strong explanatory power for a health outcome model.\n",
    "\n",
    "LLR p-value (< 0.001) shows that the overall model is significantly better than a null (no-predictor) model.\n",
    "\n",
    "Summary\n",
    "Among these predictors, age and BMI are significant risk factors for diabetes, with BMI having a substantial impact on diabetes risk. Gender and hypertension are not significant predictors in this dataset.\n"
   ]
  },
  {
   "cell_type": "code",
   "execution_count": null,
   "id": "ae953e3d-afab-4879-975a-e76a88608071",
   "metadata": {},
   "outputs": [],
   "source": []
  },
  {
   "cell_type": "code",
   "execution_count": null,
   "id": "83a752a8-ae1c-4dff-b58c-5fe579f6c537",
   "metadata": {},
   "outputs": [],
   "source": []
  },
  {
   "cell_type": "code",
   "execution_count": null,
   "id": "a1069b89-d238-4e56-b79d-af80cd427dc0",
   "metadata": {},
   "outputs": [],
   "source": []
  },
  {
   "cell_type": "code",
   "execution_count": null,
   "id": "3c3338d2-b317-4f5b-bacd-0c4aebbe4f48",
   "metadata": {},
   "outputs": [],
   "source": []
  }
 ],
 "metadata": {
  "kernelspec": {
   "display_name": "Python [conda env:base] *",
   "language": "python",
   "name": "conda-base-py"
  },
  "language_info": {
   "codemirror_mode": {
    "name": "ipython",
    "version": 3
   },
   "file_extension": ".py",
   "mimetype": "text/x-python",
   "name": "python",
   "nbconvert_exporter": "python",
   "pygments_lexer": "ipython3",
   "version": "3.13.5"
  }
 },
 "nbformat": 4,
 "nbformat_minor": 5
}
